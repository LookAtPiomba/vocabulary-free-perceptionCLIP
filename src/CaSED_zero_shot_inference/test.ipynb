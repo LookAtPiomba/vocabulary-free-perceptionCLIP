{
 "cells": [
  {
   "cell_type": "code",
   "execution_count": 2,
   "metadata": {},
   "outputs": [],
   "source": [
    "import torch\n",
    "import argparse\n",
    "import os\n",
    "import csv\n",
    "import src.datasets as datasets\n",
    "import src.templates as templates\n",
    "from src.datasets.common import get_dataloader, maybe_dictionarize\n",
    "from src.models import utils\n",
    "import numpy as np"
   ]
  },
  {
   "cell_type": "code",
   "execution_count": 20,
   "metadata": {},
   "outputs": [
    {
     "name": "stdout",
     "output_type": "stream",
     "text": [
      "['a photo of a apple.', 'a photo of a pear.', 'a photo of a banana.']\n",
      "<class 'list'>\n"
     ]
    }
   ],
   "source": [
    "templ = \"simple_template\"\n",
    "template = getattr(templates, templ)\n",
    "template = template[0] if templ == \"simple_template\" else template[1]\n",
    "text = [\"apple\", \"pear\", \"banana\"]\n",
    "\n",
    "text = [template(t) for t in text]\n",
    "\n",
    "print(text)\n",
    "print(type(text))"
   ]
  },
  {
   "cell_type": "code",
   "execution_count": 12,
   "metadata": {},
   "outputs": [
    {
     "name": "stdout",
     "output_type": "stream",
     "text": [
      "['a photo of a apple.', 'a photo of a pear.', 'a photo of a banana.']\n",
      "<class 'list'>\n"
     ]
    }
   ],
   "source": [
    "template = \"a photo of a {}.\"\n",
    "text = [\"apple\", \"pear\", \"banana\"]\n",
    "\n",
    "text = [template.format(t) for t in text]\n",
    "\n",
    "print(text)\n",
    "print(type(text))"
   ]
  }
 ],
 "metadata": {
  "kernelspec": {
   "display_name": "perceptionclip",
   "language": "python",
   "name": "python3"
  },
  "language_info": {
   "codemirror_mode": {
    "name": "ipython",
    "version": 3
   },
   "file_extension": ".py",
   "mimetype": "text/x-python",
   "name": "python",
   "nbconvert_exporter": "python",
   "pygments_lexer": "ipython3",
   "version": "3.10.13"
  }
 },
 "nbformat": 4,
 "nbformat_minor": 2
}
